{
 "cells": [
  {
   "cell_type": "code",
   "execution_count": 188,
   "metadata": {},
   "outputs": [],
   "source": [
    "import numpy as np\n",
    "import math\n",
    "import csv"
   ]
  },
  {
   "cell_type": "markdown",
   "metadata": {},
   "source": [
    "# Classification tree"
   ]
  },
  {
   "cell_type": "code",
   "execution_count": 166,
   "metadata": {},
   "outputs": [],
   "source": [
    "#Load our data\n",
    "def loadData(name):\n",
    "    data = []\n",
    "    with open(name) as openfile:\n",
    "        readfile = csv.reader(openfile, delimiter=',')\n",
    "        for line in readfile:\n",
    "            if len(line) > 1:\n",
    "                data.append(line)\n",
    "    return(data)"
   ]
  },
  {
   "cell_type": "code",
   "execution_count": 510,
   "metadata": {},
   "outputs": [],
   "source": [
    "class classificationTree():\n",
    "    def __init__(self, n_min=5): #Create the tree with leaf size of n_min % of total data.\n",
    "        self.n_min = n_min\n",
    "        self.root = {}\n",
    "    \n",
    "    #Information gain of splitting on data[axis] = name\n",
    "    def __infoGainDiscreet(self, data, axis, name):\n",
    "        #Place data into respective groups based on name.\n",
    "        group1 = []\n",
    "        group2 = []\n",
    "        for entry in data:\n",
    "            if entry[axis] == name:\n",
    "                group1.append(entry)\n",
    "            else:\n",
    "                group2.append(entry)\n",
    "        group1 = np.array(group1) #Value in range\n",
    "        group2 = np.array(group2) #Value out of range\n",
    "        group1_entropy = self.__entropy(group1) #Calculate the entropies\n",
    "        group2_entropy = self.__entropy(group2) #Calculate the entropies\n",
    "        resultEntropy = (len(group1)/len(data))*group1_entropy + (len(group2)/len(data))*group2_entropy #Ave entropy\n",
    "        return(self.__entropy(data) - resultEntropy)\n",
    "    \n",
    "    #Information gain of splitting on value > min_val\n",
    "    def __infoGainContinuous(self, data, axis, min_val = None):\n",
    "        group1 = []\n",
    "        group2 = []\n",
    "        for entry in data:\n",
    "            if float(entry[axis]) > min_val:\n",
    "                group1.append(entry)\n",
    "            else:\n",
    "                group2.append(entry)\n",
    "        group1 = np.array(group1) #Value in range\n",
    "        group2 = np.array(group2) #Value out of range\n",
    "        group1_entropy = self.__entropy(group1) #Calculate the entropies\n",
    "        group2_entropy = self.__entropy(group2) #Calculate the entropies\n",
    "        resultEntropy = (len(group1)/len(data))*group1_entropy + (len(group2)/len(data))*group2_entropy #Ave entropy\n",
    "        return(self.__entropy(data) - resultEntropy)\n",
    "    \n",
    "    #Entropy of a group with respect to our targets (self.labels)\n",
    "    def __entropy(self, group):\n",
    "        totalcount = len(group) #Total number of inputs\n",
    "        entropy = 0 #Total entropy.\n",
    "        #Calculated the weighted entropy of each label.\n",
    "        for label in self.labels:\n",
    "            true = np.array([x for x in group if label in x])\n",
    "            false = np.array([x for x in group if label not in x])\n",
    "            if len(true) != 0: #Log of 0.0 is undefined.\n",
    "                entropy -= (len(true)/totalcount) * math.log((len(true)/totalcount), 2)\n",
    "        return(entropy)\n",
    "        \n",
    "    \n",
    "    #Finds the feature to split with the highest information gain.\n",
    "    #For discreet data, we use the median as the splitting category.\n",
    "    #For continuous data, we use the average\n",
    "    #Returns the column(feature), value\n",
    "    def __find_best_feature(self, data):\n",
    "        highest_info_gain = 0.0 #This tracks the highest we found\n",
    "        highest_column = 0 #This tracks the feature we should split by.\n",
    "        splitby = \"\" #This tracks the name (discreet) or min_split (continuous)\n",
    "        \n",
    "        for i in range(len(data[0])-1): #For each feature (column) minus label.\n",
    "            #Determine the type of feature.\n",
    "            featuretype = \"\"\n",
    "            if 'int' in str(type(data[0][i])) or 'float' in str(type(data[0][i])):\n",
    "                featuretype = \"continuous\"\n",
    "            elif 'str' in str(type(data[0][i])):\n",
    "                featuretype = \"discreet\"\n",
    "            \n",
    "            #If our feature is discreet, we check info gain on each name(type)\n",
    "            if featuretype == \"discreet\":\n",
    "                #Get only unique categories.\n",
    "                possibility = set()\n",
    "                for j in range(len(data)):\n",
    "                    possibility.add(data[j][i])\n",
    "                #Now iterate over unique names\n",
    "                for name in possibility:\n",
    "                    info_gain = self.__infoGainDiscreet(data, i, name)\n",
    "                    if(info_gain > highest_info_gain): #If we exceeded existin info_gain\n",
    "                        highest_info_gain = info_gain #Update highest values.\n",
    "                        highest_column = i\n",
    "                        splitby = name\n",
    "\n",
    "            #If the feature is continuous, search over the whole range as specified in docs.\n",
    "            #\"For determining the optimal threshold for splitting you will need to search over\n",
    "            #all possible thresholds for a given feature\". This is slow.\n",
    "            elif featuretype == \"continuous\":\n",
    "                for j in range(len(data)):\n",
    "                    info_gain = self.__infoGainContinuous(data, i, data[j][i])\n",
    "                    if(info_gain > highest_info_gain): #If we exceeded existin info_gain\n",
    "                        highest_info_gain = info_gain #Update highest values.\n",
    "                        highest_column = i\n",
    "                        splitby = str(data[j][i])\n",
    "\n",
    "        return(highest_column, splitby)\n",
    "    \n",
    "#     def splitNode(self, data, column, splitby):\n",
    "#         return()\n",
    "                \n",
    "    #Fit the data into our tree.\n",
    "    #Continuous data should be numerical. Categorical should be string.\n",
    "    def fit(self, data, label):\n",
    "        #Attach the labels to the end of our data.\n",
    "        for i in range(len(data)):\n",
    "            data[i].append(label[i])\n",
    "        self.labels = list(set(label))   #These are the unique labels.\n",
    "        self.size = len(data) #size of our dataset\n",
    "        self.n_min = (self.n_min * self.size)/100 #Minimum leaf size.\n",
    "        \n",
    "        #Use ID3 algorithm. \n",
    "        #1. Create a root node.\n",
    "#         self.root = {\n",
    "#             \"data\":data,\n",
    "#             \"column\":None,\n",
    "#             \"splitby\":None,\n",
    "#             \"left\":None,\n",
    "#             \"right\":None}\n",
    "        #calculate entropy \n",
    "        print(self.__infoGainDiscreet(data, 3, \"40\"))\n",
    "        print(self.__infoGainContinuous(data, 3, 1.0))\n",
    "        column, splitby = self.__find_best_feature(data)\n",
    "        print(column, splitby)"
   ]
  },
  {
   "cell_type": "markdown",
   "metadata": {},
   "source": [
    "## Classification on the Iris dataset"
   ]
  },
  {
   "cell_type": "code",
   "execution_count": 511,
   "metadata": {},
   "outputs": [],
   "source": [
    "#Load the iris dataset.\n",
    "data = loadData(\"iris.csv\")\n",
    "label = [x[-1] for x in data]\n",
    "data = [x[:-1] for x in data]\n",
    "#Set the correct data types.\n",
    "for i in range(len(data)):\n",
    "    data[i][0] = float(data[i][0])\n",
    "    data[i][1] = float(data[i][1])\n",
    "    data[i][2] = float(data[i][2])\n",
    "    data[i][3] = float(data[i][3])\n"
   ]
  },
  {
   "cell_type": "code",
   "execution_count": 512,
   "metadata": {},
   "outputs": [
    {
     "name": "stdout",
     "output_type": "stream",
     "text": [
      "0.0\n",
      "0.7632957516786808\n",
      "2 1.9\n"
     ]
    }
   ],
   "source": [
    "tree = classificationTree(n_min = 5) #n_min = minimum percentage of data as leafnode size.\n",
    "tree.fit(data,label)"
   ]
  },
  {
   "cell_type": "code",
   "execution_count": null,
   "metadata": {},
   "outputs": [],
   "source": []
  },
  {
   "cell_type": "code",
   "execution_count": null,
   "metadata": {},
   "outputs": [],
   "source": []
  },
  {
   "cell_type": "code",
   "execution_count": null,
   "metadata": {},
   "outputs": [],
   "source": []
  }
 ],
 "metadata": {
  "kernelspec": {
   "display_name": "Python 3",
   "language": "python",
   "name": "python3"
  },
  "language_info": {
   "codemirror_mode": {
    "name": "ipython",
    "version": 3
   },
   "file_extension": ".py",
   "mimetype": "text/x-python",
   "name": "python",
   "nbconvert_exporter": "python",
   "pygments_lexer": "ipython3",
   "version": "3.7.1"
  }
 },
 "nbformat": 4,
 "nbformat_minor": 2
}
